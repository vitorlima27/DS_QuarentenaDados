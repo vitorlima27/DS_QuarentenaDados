{
  "nbformat": 4,
  "nbformat_minor": 0,
  "metadata": {
    "colab": {
      "name": "#QD Desafio Final (Meu modelo).ipynb",
      "provenance": [],
      "collapsed_sections": [
        "Xus4hPLKEWgf",
        "6fl-e6FWJGwq",
        "G16Js0IELifw",
        "xvEIY5lhMi1L",
        "qu2z1e93vnQK"
      ]
    },
    "kernelspec": {
      "name": "python3",
      "display_name": "Python 3"
    }
  },
  "cells": [
    {
      "cell_type": "markdown",
      "metadata": {
        "id": "Xus4hPLKEWgf",
        "colab_type": "text"
      },
      "source": [
        "# Desafio #QuarentenaDados \n",
        "**Alura + Data Hackers**\n",
        "\n",
        "Notebook de João Vitor de Lima.\n",
        "\n",
        "http://linkedin.com/in/joao-vitor-de-lima-b55071173"
      ]
    },
    {
      "cell_type": "markdown",
      "metadata": {
        "id": "uzcQEdroFFuJ",
        "colab_type": "text"
      },
      "source": [
        "Vamos trabalhar com uma amostra aleatória da base de dados MICRODADOS ENEM 2018, essa amostra é diferente da apresentada em aula. Junto com a divulgação do resultado final estaremos disponibilizando o código que gerou os dados para que você possa analisar e reproduzir os datasets.\n",
        "\n",
        "Seu objetivo é prever da melhor forma possível a nota das provas de linguagens e códigos (NU_NOTA_LC), dado todas as outras notas. O modelo que tiver o menor erro quadrático médio (MSE) vence o desafio.\n",
        "\n",
        "Para o desafio você tem três bases à disposição, duas para desenvolver seu modelo e uma para submissão da predição. As bases são as seguintes:\n",
        "\n",
        "dados_treino: São 1500000 linhas contendo a nota das 4 provas + nota de redação.\n",
        "\n",
        "dados_teste: São 20000 linhas contendo com notas das 4 provas + nota de redação.\n",
        "\n",
        "dados_desafioqt: São 10000 linhas com nota de 3 provas + nota de redação. A nota da prova de Linguagem e Codigos (NU_NOTA_LC) não está disponível nessa base.\n",
        "\n",
        "As base dados_treino e dados_teste, contém as seguintes colunas; NU_NOTA_CN, NU_NOTA_CH, NU_NOTA_MT, NU_NOTA_REDACAO, NU_NOTA_LC (Você pode consultar a aula 5, onde o Guilherme explica o significado das siglas). A coluna que você deve realizar a previsão é NU_NOTA_LC. Você pode manipular os dados da forma que quiser, o importante é que no final submeta o arquivo com as informações corretas (detalhes da submissão serão discutidos no final deste notebook).\n",
        "\n",
        "A base dados_desafioqt, contém as seguintes colunas; ID, NU_NOTA_CN, NU_NOTA_CH, NU_NOTA_MT, NU_NOTA_REDACAO. Repare que os dados NU_NOTA_LC não estão presentes, essa é justamente a informação que você precisa prever. Nós temos os valores reais das notas, no final do prazo de submissão um script irá avaliar sua previsão e dará uma nota para o seu modelo. Nessa base também temos o ID, essa informação é importante para o envio da sua previsão, garanta que a nota prevista corresponda ao respectivo ID."
      ]
    },
    {
      "cell_type": "markdown",
      "metadata": {
        "id": "P9obFweMFU4d",
        "colab_type": "text"
      },
      "source": [
        "# Etapa 01: Análise e exploração de dados"
      ]
    },
    {
      "cell_type": "markdown",
      "metadata": {
        "id": "6fl-e6FWJGwq",
        "colab_type": "text"
      },
      "source": [
        "# 1.1 Análise dos datasets, verificação de valores NaN, outliers e colunas com nota 0."
      ]
    },
    {
      "cell_type": "markdown",
      "metadata": {
        "id": "e5oJ4pGfK9tQ",
        "colab_type": "text"
      },
      "source": [
        "Após verificar os dados de cada dataset, tenho como resultado que não existem valores NaN, não existem valores que extrapolem o máximo possível de alcance das notas, mas existem colunas com nota 0, que serão tratados na próxima seção."
      ]
    },
    {
      "cell_type": "code",
      "metadata": {
        "id": "TKPfp5-9wv1d",
        "colab_type": "code",
        "colab": {}
      },
      "source": [
        "# Importação das bibliotecas\n",
        "import pandas as pd\n",
        "import numpy as np\n",
        "import matplotlib.pyplot as plt\n",
        "import seaborn as sns"
      ],
      "execution_count": 0,
      "outputs": []
    },
    {
      "cell_type": "code",
      "metadata": {
        "id": "UqpSley9wyJK",
        "colab_type": "code",
        "colab": {}
      },
      "source": [
        "#Carregamento e verificação das bases de dados\n",
        "\n",
        "URI_TREINO = \"https://github.com/tgcsantos/quaretenadados/blob/master/DADOS_TREINO.csv?raw=true\"\n",
        "URI_TESTE = \"https://github.com/tgcsantos/quaretenadados/raw/master/DADOS_TESTE.csv\"\n",
        "URI_DESAFIOQT = \"https://github.com/tgcsantos/quaretenadados/raw/master/DESAFIOQT.csv\"\n",
        "\n",
        "dados_treino = pd.read_csv(URI_TREINO)\n",
        "dados_teste = pd.read_csv(URI_TESTE)\n",
        "dados_desafioqt = pd.read_csv(URI_DESAFIOQT)\n",
        "\n",
        "erro_treino = \"Erro ao carregar dados de treino\"\n",
        "erro_teste = \"Erro ao carregar dados de teste\"\n",
        "erro_desafioqt = \"Erro ao carregar dados de submissão\"\n",
        "\n",
        "assert dados_treino.shape == (150000, 5), erro_treino\n",
        "assert dados_teste.shape == (20000, 5), erro_teste\n",
        "assert dados_desafioqt.shape == (10000, 5), erro_desafioqt"
      ],
      "execution_count": 0,
      "outputs": []
    },
    {
      "cell_type": "markdown",
      "metadata": {
        "id": "Rh9UrxpWJZ5H",
        "colab_type": "text"
      },
      "source": [
        "  1.1.1 Dados de treino"
      ]
    },
    {
      "cell_type": "code",
      "metadata": {
        "id": "D1mmzQmPGEVS",
        "colab_type": "code",
        "outputId": "0caee0bc-6449-430a-992f-1458fbef5aba",
        "colab": {
          "base_uri": "https://localhost:8080/",
          "height": 204
        }
      },
      "source": [
        "#Visualização dos 5 primeiros valores\n",
        "dados_treino.head()"
      ],
      "execution_count": 0,
      "outputs": [
        {
          "output_type": "execute_result",
          "data": {
            "text/html": [
              "<div>\n",
              "<style scoped>\n",
              "    .dataframe tbody tr th:only-of-type {\n",
              "        vertical-align: middle;\n",
              "    }\n",
              "\n",
              "    .dataframe tbody tr th {\n",
              "        vertical-align: top;\n",
              "    }\n",
              "\n",
              "    .dataframe thead th {\n",
              "        text-align: right;\n",
              "    }\n",
              "</style>\n",
              "<table border=\"1\" class=\"dataframe\">\n",
              "  <thead>\n",
              "    <tr style=\"text-align: right;\">\n",
              "      <th></th>\n",
              "      <th>NU_NOTA_CN</th>\n",
              "      <th>NU_NOTA_CH</th>\n",
              "      <th>NU_NOTA_LC</th>\n",
              "      <th>NU_NOTA_MT</th>\n",
              "      <th>NU_NOTA_REDACAO</th>\n",
              "    </tr>\n",
              "  </thead>\n",
              "  <tbody>\n",
              "    <tr>\n",
              "      <th>0</th>\n",
              "      <td>530.7</td>\n",
              "      <td>586.5</td>\n",
              "      <td>575.9</td>\n",
              "      <td>539.0</td>\n",
              "      <td>520.0</td>\n",
              "    </tr>\n",
              "    <tr>\n",
              "      <th>1</th>\n",
              "      <td>439.4</td>\n",
              "      <td>577.9</td>\n",
              "      <td>440.9</td>\n",
              "      <td>488.7</td>\n",
              "      <td>380.0</td>\n",
              "    </tr>\n",
              "    <tr>\n",
              "      <th>2</th>\n",
              "      <td>414.1</td>\n",
              "      <td>548.8</td>\n",
              "      <td>417.2</td>\n",
              "      <td>382.6</td>\n",
              "      <td>600.0</td>\n",
              "    </tr>\n",
              "    <tr>\n",
              "      <th>3</th>\n",
              "      <td>407.9</td>\n",
              "      <td>572.7</td>\n",
              "      <td>558.9</td>\n",
              "      <td>595.4</td>\n",
              "      <td>560.0</td>\n",
              "    </tr>\n",
              "    <tr>\n",
              "      <th>4</th>\n",
              "      <td>617.2</td>\n",
              "      <td>655.7</td>\n",
              "      <td>564.2</td>\n",
              "      <td>660.9</td>\n",
              "      <td>540.0</td>\n",
              "    </tr>\n",
              "  </tbody>\n",
              "</table>\n",
              "</div>"
            ],
            "text/plain": [
              "   NU_NOTA_CN  NU_NOTA_CH  NU_NOTA_LC  NU_NOTA_MT  NU_NOTA_REDACAO\n",
              "0       530.7       586.5       575.9       539.0            520.0\n",
              "1       439.4       577.9       440.9       488.7            380.0\n",
              "2       414.1       548.8       417.2       382.6            600.0\n",
              "3       407.9       572.7       558.9       595.4            560.0\n",
              "4       617.2       655.7       564.2       660.9            540.0"
            ]
          },
          "metadata": {
            "tags": []
          },
          "execution_count": 3
        }
      ]
    },
    {
      "cell_type": "code",
      "metadata": {
        "id": "4Rx2gA-YJkoO",
        "colab_type": "code",
        "outputId": "0bede6c1-bcd8-4e6f-b0f0-587e484a8d67",
        "colab": {
          "base_uri": "https://localhost:8080/",
          "height": 297
        }
      },
      "source": [
        "#Visualização dos principais dados estatísticos do dataset\n",
        "dados_treino.describe()"
      ],
      "execution_count": 0,
      "outputs": [
        {
          "output_type": "execute_result",
          "data": {
            "text/html": [
              "<div>\n",
              "<style scoped>\n",
              "    .dataframe tbody tr th:only-of-type {\n",
              "        vertical-align: middle;\n",
              "    }\n",
              "\n",
              "    .dataframe tbody tr th {\n",
              "        vertical-align: top;\n",
              "    }\n",
              "\n",
              "    .dataframe thead th {\n",
              "        text-align: right;\n",
              "    }\n",
              "</style>\n",
              "<table border=\"1\" class=\"dataframe\">\n",
              "  <thead>\n",
              "    <tr style=\"text-align: right;\">\n",
              "      <th></th>\n",
              "      <th>NU_NOTA_CN</th>\n",
              "      <th>NU_NOTA_CH</th>\n",
              "      <th>NU_NOTA_LC</th>\n",
              "      <th>NU_NOTA_MT</th>\n",
              "      <th>NU_NOTA_REDACAO</th>\n",
              "    </tr>\n",
              "  </thead>\n",
              "  <tbody>\n",
              "    <tr>\n",
              "      <th>count</th>\n",
              "      <td>150000.000000</td>\n",
              "      <td>150000.000000</td>\n",
              "      <td>150000.000000</td>\n",
              "      <td>150000.000000</td>\n",
              "      <td>150000.000000</td>\n",
              "    </tr>\n",
              "    <tr>\n",
              "      <th>mean</th>\n",
              "      <td>493.890438</td>\n",
              "      <td>570.752255</td>\n",
              "      <td>528.526903</td>\n",
              "      <td>535.615000</td>\n",
              "      <td>516.269867</td>\n",
              "    </tr>\n",
              "    <tr>\n",
              "      <th>std</th>\n",
              "      <td>74.154695</td>\n",
              "      <td>79.399706</td>\n",
              "      <td>72.385368</td>\n",
              "      <td>103.033382</td>\n",
              "      <td>184.355231</td>\n",
              "    </tr>\n",
              "    <tr>\n",
              "      <th>min</th>\n",
              "      <td>0.000000</td>\n",
              "      <td>0.000000</td>\n",
              "      <td>0.000000</td>\n",
              "      <td>0.000000</td>\n",
              "      <td>0.000000</td>\n",
              "    </tr>\n",
              "    <tr>\n",
              "      <th>25%</th>\n",
              "      <td>435.800000</td>\n",
              "      <td>513.300000</td>\n",
              "      <td>477.900000</td>\n",
              "      <td>455.500000</td>\n",
              "      <td>360.000000</td>\n",
              "    </tr>\n",
              "    <tr>\n",
              "      <th>50%</th>\n",
              "      <td>483.600000</td>\n",
              "      <td>584.900000</td>\n",
              "      <td>533.400000</td>\n",
              "      <td>516.700000</td>\n",
              "      <td>520.000000</td>\n",
              "    </tr>\n",
              "    <tr>\n",
              "      <th>75%</th>\n",
              "      <td>542.500000</td>\n",
              "      <td>629.600000</td>\n",
              "      <td>581.400000</td>\n",
              "      <td>600.900000</td>\n",
              "      <td>640.000000</td>\n",
              "    </tr>\n",
              "    <tr>\n",
              "      <th>max</th>\n",
              "      <td>869.600000</td>\n",
              "      <td>825.800000</td>\n",
              "      <td>787.400000</td>\n",
              "      <td>996.100000</td>\n",
              "      <td>1000.000000</td>\n",
              "    </tr>\n",
              "  </tbody>\n",
              "</table>\n",
              "</div>"
            ],
            "text/plain": [
              "          NU_NOTA_CN     NU_NOTA_CH  ...     NU_NOTA_MT  NU_NOTA_REDACAO\n",
              "count  150000.000000  150000.000000  ...  150000.000000    150000.000000\n",
              "mean      493.890438     570.752255  ...     535.615000       516.269867\n",
              "std        74.154695      79.399706  ...     103.033382       184.355231\n",
              "min         0.000000       0.000000  ...       0.000000         0.000000\n",
              "25%       435.800000     513.300000  ...     455.500000       360.000000\n",
              "50%       483.600000     584.900000  ...     516.700000       520.000000\n",
              "75%       542.500000     629.600000  ...     600.900000       640.000000\n",
              "max       869.600000     825.800000  ...     996.100000      1000.000000\n",
              "\n",
              "[8 rows x 5 columns]"
            ]
          },
          "metadata": {
            "tags": []
          },
          "execution_count": 4
        }
      ]
    },
    {
      "cell_type": "code",
      "metadata": {
        "id": "2ivJZTtxJobz",
        "colab_type": "code",
        "outputId": "9a832f27-2029-4329-b1ee-d6c650b9d308",
        "colab": {
          "base_uri": "https://localhost:8080/",
          "height": 221
        }
      },
      "source": [
        "#Informações sobre colunas, valores e tipos.\n",
        "dados_treino.info()"
      ],
      "execution_count": 0,
      "outputs": [
        {
          "output_type": "stream",
          "text": [
            "<class 'pandas.core.frame.DataFrame'>\n",
            "RangeIndex: 150000 entries, 0 to 149999\n",
            "Data columns (total 5 columns):\n",
            " #   Column           Non-Null Count   Dtype  \n",
            "---  ------           --------------   -----  \n",
            " 0   NU_NOTA_CN       150000 non-null  float64\n",
            " 1   NU_NOTA_CH       150000 non-null  float64\n",
            " 2   NU_NOTA_LC       150000 non-null  float64\n",
            " 3   NU_NOTA_MT       150000 non-null  float64\n",
            " 4   NU_NOTA_REDACAO  150000 non-null  float64\n",
            "dtypes: float64(5)\n",
            "memory usage: 5.7 MB\n"
          ],
          "name": "stdout"
        }
      ]
    },
    {
      "cell_type": "markdown",
      "metadata": {
        "id": "vwY-SNyWKM0i",
        "colab_type": "text"
      },
      "source": [
        "1.1.2 Dados de teste"
      ]
    },
    {
      "cell_type": "code",
      "metadata": {
        "id": "mn7Z3Gd6KCtT",
        "colab_type": "code",
        "outputId": "f86a143c-fc85-4196-883d-f7dd962c3be4",
        "colab": {
          "base_uri": "https://localhost:8080/",
          "height": 297
        }
      },
      "source": [
        "#Visualização dos principais dados estatísticos do dataset\n",
        "dados_teste.describe()"
      ],
      "execution_count": 0,
      "outputs": [
        {
          "output_type": "execute_result",
          "data": {
            "text/html": [
              "<div>\n",
              "<style scoped>\n",
              "    .dataframe tbody tr th:only-of-type {\n",
              "        vertical-align: middle;\n",
              "    }\n",
              "\n",
              "    .dataframe tbody tr th {\n",
              "        vertical-align: top;\n",
              "    }\n",
              "\n",
              "    .dataframe thead th {\n",
              "        text-align: right;\n",
              "    }\n",
              "</style>\n",
              "<table border=\"1\" class=\"dataframe\">\n",
              "  <thead>\n",
              "    <tr style=\"text-align: right;\">\n",
              "      <th></th>\n",
              "      <th>NU_NOTA_CN</th>\n",
              "      <th>NU_NOTA_CH</th>\n",
              "      <th>NU_NOTA_LC</th>\n",
              "      <th>NU_NOTA_MT</th>\n",
              "      <th>NU_NOTA_REDACAO</th>\n",
              "    </tr>\n",
              "  </thead>\n",
              "  <tbody>\n",
              "    <tr>\n",
              "      <th>count</th>\n",
              "      <td>20000.00000</td>\n",
              "      <td>20000.000000</td>\n",
              "      <td>20000.000000</td>\n",
              "      <td>20000.000000</td>\n",
              "      <td>20000.000000</td>\n",
              "    </tr>\n",
              "    <tr>\n",
              "      <th>mean</th>\n",
              "      <td>494.28013</td>\n",
              "      <td>571.214535</td>\n",
              "      <td>527.989935</td>\n",
              "      <td>534.577850</td>\n",
              "      <td>516.192000</td>\n",
              "    </tr>\n",
              "    <tr>\n",
              "      <th>std</th>\n",
              "      <td>73.60655</td>\n",
              "      <td>78.452930</td>\n",
              "      <td>72.244443</td>\n",
              "      <td>102.212904</td>\n",
              "      <td>184.972025</td>\n",
              "    </tr>\n",
              "    <tr>\n",
              "      <th>min</th>\n",
              "      <td>0.00000</td>\n",
              "      <td>0.000000</td>\n",
              "      <td>0.000000</td>\n",
              "      <td>0.000000</td>\n",
              "      <td>0.000000</td>\n",
              "    </tr>\n",
              "    <tr>\n",
              "      <th>25%</th>\n",
              "      <td>436.60000</td>\n",
              "      <td>515.100000</td>\n",
              "      <td>477.500000</td>\n",
              "      <td>454.400000</td>\n",
              "      <td>360.000000</td>\n",
              "    </tr>\n",
              "    <tr>\n",
              "      <th>50%</th>\n",
              "      <td>484.50000</td>\n",
              "      <td>585.000000</td>\n",
              "      <td>533.300000</td>\n",
              "      <td>516.400000</td>\n",
              "      <td>520.000000</td>\n",
              "    </tr>\n",
              "    <tr>\n",
              "      <th>75%</th>\n",
              "      <td>543.20000</td>\n",
              "      <td>629.800000</td>\n",
              "      <td>580.925000</td>\n",
              "      <td>600.200000</td>\n",
              "      <td>640.000000</td>\n",
              "    </tr>\n",
              "    <tr>\n",
              "      <th>max</th>\n",
              "      <td>785.00000</td>\n",
              "      <td>840.900000</td>\n",
              "      <td>747.800000</td>\n",
              "      <td>965.000000</td>\n",
              "      <td>980.000000</td>\n",
              "    </tr>\n",
              "  </tbody>\n",
              "</table>\n",
              "</div>"
            ],
            "text/plain": [
              "        NU_NOTA_CN    NU_NOTA_CH    NU_NOTA_LC    NU_NOTA_MT  NU_NOTA_REDACAO\n",
              "count  20000.00000  20000.000000  20000.000000  20000.000000     20000.000000\n",
              "mean     494.28013    571.214535    527.989935    534.577850       516.192000\n",
              "std       73.60655     78.452930     72.244443    102.212904       184.972025\n",
              "min        0.00000      0.000000      0.000000      0.000000         0.000000\n",
              "25%      436.60000    515.100000    477.500000    454.400000       360.000000\n",
              "50%      484.50000    585.000000    533.300000    516.400000       520.000000\n",
              "75%      543.20000    629.800000    580.925000    600.200000       640.000000\n",
              "max      785.00000    840.900000    747.800000    965.000000       980.000000"
            ]
          },
          "metadata": {
            "tags": []
          },
          "execution_count": 6
        }
      ]
    },
    {
      "cell_type": "code",
      "metadata": {
        "id": "P_jh5ppkKkOa",
        "colab_type": "code",
        "outputId": "8cba87bb-82bc-495c-e249-c038edb3b4d2",
        "colab": {
          "base_uri": "https://localhost:8080/",
          "height": 221
        }
      },
      "source": [
        "#Informações sobre colunas, valores e tipos.\n",
        "dados_teste.info()"
      ],
      "execution_count": 0,
      "outputs": [
        {
          "output_type": "stream",
          "text": [
            "<class 'pandas.core.frame.DataFrame'>\n",
            "RangeIndex: 20000 entries, 0 to 19999\n",
            "Data columns (total 5 columns):\n",
            " #   Column           Non-Null Count  Dtype  \n",
            "---  ------           --------------  -----  \n",
            " 0   NU_NOTA_CN       20000 non-null  float64\n",
            " 1   NU_NOTA_CH       20000 non-null  float64\n",
            " 2   NU_NOTA_LC       20000 non-null  float64\n",
            " 3   NU_NOTA_MT       20000 non-null  float64\n",
            " 4   NU_NOTA_REDACAO  20000 non-null  float64\n",
            "dtypes: float64(5)\n",
            "memory usage: 781.4 KB\n"
          ],
          "name": "stdout"
        }
      ]
    },
    {
      "cell_type": "markdown",
      "metadata": {
        "id": "vlXa7dm4KqP5",
        "colab_type": "text"
      },
      "source": [
        "1.1.3 Dados do desafio"
      ]
    },
    {
      "cell_type": "code",
      "metadata": {
        "id": "3SPrMrDAKoT9",
        "colab_type": "code",
        "outputId": "60771d26-c7dc-4ea2-e81b-fdefa0e2a4bb",
        "colab": {
          "base_uri": "https://localhost:8080/",
          "height": 297
        }
      },
      "source": [
        "#Visualização dos principais dados estatísticos do dataset\n",
        "dados_desafioqt.describe()"
      ],
      "execution_count": 0,
      "outputs": [
        {
          "output_type": "execute_result",
          "data": {
            "text/html": [
              "<div>\n",
              "<style scoped>\n",
              "    .dataframe tbody tr th:only-of-type {\n",
              "        vertical-align: middle;\n",
              "    }\n",
              "\n",
              "    .dataframe tbody tr th {\n",
              "        vertical-align: top;\n",
              "    }\n",
              "\n",
              "    .dataframe thead th {\n",
              "        text-align: right;\n",
              "    }\n",
              "</style>\n",
              "<table border=\"1\" class=\"dataframe\">\n",
              "  <thead>\n",
              "    <tr style=\"text-align: right;\">\n",
              "      <th></th>\n",
              "      <th>ID</th>\n",
              "      <th>NU_NOTA_CN</th>\n",
              "      <th>NU_NOTA_CH</th>\n",
              "      <th>NU_NOTA_MT</th>\n",
              "      <th>NU_NOTA_REDACAO</th>\n",
              "    </tr>\n",
              "  </thead>\n",
              "  <tbody>\n",
              "    <tr>\n",
              "      <th>count</th>\n",
              "      <td>10000.00000</td>\n",
              "      <td>10000.000000</td>\n",
              "      <td>10000.000000</td>\n",
              "      <td>10000.000000</td>\n",
              "      <td>10000.000000</td>\n",
              "    </tr>\n",
              "    <tr>\n",
              "      <th>mean</th>\n",
              "      <td>4999.50000</td>\n",
              "      <td>493.699120</td>\n",
              "      <td>571.692870</td>\n",
              "      <td>535.307860</td>\n",
              "      <td>515.546000</td>\n",
              "    </tr>\n",
              "    <tr>\n",
              "      <th>std</th>\n",
              "      <td>2886.89568</td>\n",
              "      <td>73.512058</td>\n",
              "      <td>78.388181</td>\n",
              "      <td>103.141515</td>\n",
              "      <td>183.814419</td>\n",
              "    </tr>\n",
              "    <tr>\n",
              "      <th>min</th>\n",
              "      <td>0.00000</td>\n",
              "      <td>0.000000</td>\n",
              "      <td>0.000000</td>\n",
              "      <td>0.000000</td>\n",
              "      <td>0.000000</td>\n",
              "    </tr>\n",
              "    <tr>\n",
              "      <th>25%</th>\n",
              "      <td>2499.75000</td>\n",
              "      <td>436.100000</td>\n",
              "      <td>515.400000</td>\n",
              "      <td>455.100000</td>\n",
              "      <td>360.000000</td>\n",
              "    </tr>\n",
              "    <tr>\n",
              "      <th>50%</th>\n",
              "      <td>4999.50000</td>\n",
              "      <td>483.650000</td>\n",
              "      <td>586.300000</td>\n",
              "      <td>517.550000</td>\n",
              "      <td>520.000000</td>\n",
              "    </tr>\n",
              "    <tr>\n",
              "      <th>75%</th>\n",
              "      <td>7499.25000</td>\n",
              "      <td>542.700000</td>\n",
              "      <td>630.400000</td>\n",
              "      <td>601.000000</td>\n",
              "      <td>620.000000</td>\n",
              "    </tr>\n",
              "    <tr>\n",
              "      <th>max</th>\n",
              "      <td>9999.00000</td>\n",
              "      <td>771.100000</td>\n",
              "      <td>776.700000</td>\n",
              "      <td>946.500000</td>\n",
              "      <td>980.000000</td>\n",
              "    </tr>\n",
              "  </tbody>\n",
              "</table>\n",
              "</div>"
            ],
            "text/plain": [
              "                ID    NU_NOTA_CN    NU_NOTA_CH    NU_NOTA_MT  NU_NOTA_REDACAO\n",
              "count  10000.00000  10000.000000  10000.000000  10000.000000     10000.000000\n",
              "mean    4999.50000    493.699120    571.692870    535.307860       515.546000\n",
              "std     2886.89568     73.512058     78.388181    103.141515       183.814419\n",
              "min        0.00000      0.000000      0.000000      0.000000         0.000000\n",
              "25%     2499.75000    436.100000    515.400000    455.100000       360.000000\n",
              "50%     4999.50000    483.650000    586.300000    517.550000       520.000000\n",
              "75%     7499.25000    542.700000    630.400000    601.000000       620.000000\n",
              "max     9999.00000    771.100000    776.700000    946.500000       980.000000"
            ]
          },
          "metadata": {
            "tags": []
          },
          "execution_count": 8
        }
      ]
    },
    {
      "cell_type": "code",
      "metadata": {
        "id": "_iOywd_WKvEA",
        "colab_type": "code",
        "outputId": "efb7091a-e7e5-412e-9157-8dc0fe20c1f8",
        "colab": {
          "base_uri": "https://localhost:8080/",
          "height": 221
        }
      },
      "source": [
        "#Informações sobre colunas, valores e tipos.\n",
        "dados_desafioqt.info()"
      ],
      "execution_count": 0,
      "outputs": [
        {
          "output_type": "stream",
          "text": [
            "<class 'pandas.core.frame.DataFrame'>\n",
            "RangeIndex: 10000 entries, 0 to 9999\n",
            "Data columns (total 5 columns):\n",
            " #   Column           Non-Null Count  Dtype  \n",
            "---  ------           --------------  -----  \n",
            " 0   ID               10000 non-null  int64  \n",
            " 1   NU_NOTA_CN       10000 non-null  float64\n",
            " 2   NU_NOTA_CH       10000 non-null  float64\n",
            " 3   NU_NOTA_MT       10000 non-null  float64\n",
            " 4   NU_NOTA_REDACAO  10000 non-null  float64\n",
            "dtypes: float64(4), int64(1)\n",
            "memory usage: 390.8 KB\n"
          ],
          "name": "stdout"
        }
      ]
    },
    {
      "cell_type": "markdown",
      "metadata": {
        "id": "G16Js0IELifw",
        "colab_type": "text"
      },
      "source": [
        "#1.2 Tratamento e preparação dos datasets."
      ]
    },
    {
      "cell_type": "markdown",
      "metadata": {
        "id": "h6G9xrT7MD-B",
        "colab_type": "text"
      },
      "source": [
        "1.2.1 Colunas com notas 0"
      ]
    },
    {
      "cell_type": "markdown",
      "metadata": {
        "id": "GdFdAjq4Naqg",
        "colab_type": "text"
      },
      "source": [
        "Para tratar das colunas com nota zero eu irei fazer os seguintes passos:\n",
        "\n",
        "\n",
        "1.   Substituir os valores 0 por valores NaN;\n",
        "2.   Preencher os valores NaN dos datasets pela média de cada nota.\n",
        "\n",
        "\n"
      ]
    },
    {
      "cell_type": "code",
      "metadata": {
        "id": "2cP2PhigLotg",
        "colab_type": "code",
        "colab": {}
      },
      "source": [
        "#Substituição dos valores 0 por NaN\n",
        "\n",
        "dados_treino['NU_NOTA_CN'].replace(0.,np.NAN, inplace=True)\n",
        "dados_treino['NU_NOTA_CH'].replace(0.,np.NAN, inplace=True)\n",
        "dados_treino['NU_NOTA_LC'].replace(0.,np.NAN, inplace=True)\n",
        "dados_treino['NU_NOTA_MT'].replace(0.,np.NAN, inplace=True)\n",
        "dados_treino['NU_NOTA_REDACAO'].replace(0.,np.NAN, inplace=True)\n",
        "\n",
        "dados_teste['NU_NOTA_CN'].replace(0.,np.NAN, inplace=True)\n",
        "dados_teste['NU_NOTA_CH'].replace(0.,np.NAN, inplace=True)\n",
        "dados_teste['NU_NOTA_LC'].replace(0.,np.NAN, inplace=True)\n",
        "dados_teste['NU_NOTA_MT'].replace(0.,np.NAN, inplace=True)\n",
        "dados_teste['NU_NOTA_REDACAO'].replace(0.,np.NAN, inplace=True)\n",
        "\n",
        "\n",
        "dados_desafioqt['NU_NOTA_CN'].replace(0.,np.NAN, inplace=True)\n",
        "dados_desafioqt['NU_NOTA_CH'].replace(0.,np.NAN, inplace=True)\n",
        "dados_desafioqt['NU_NOTA_MT'].replace(0.,np.NAN, inplace=True)\n",
        "dados_desafioqt['NU_NOTA_REDACAO'].replace(0.,np.NAN, inplace=True)\n"
      ],
      "execution_count": 0,
      "outputs": []
    },
    {
      "cell_type": "code",
      "metadata": {
        "id": "z484ODAchzpL",
        "colab_type": "code",
        "outputId": "83e87e9d-ffae-4077-b787-178e72417993",
        "colab": {
          "base_uri": "https://localhost:8080/",
          "height": 221
        }
      },
      "source": [
        "dados_treino.info()"
      ],
      "execution_count": 58,
      "outputs": [
        {
          "output_type": "stream",
          "text": [
            "<class 'pandas.core.frame.DataFrame'>\n",
            "RangeIndex: 150000 entries, 0 to 149999\n",
            "Data columns (total 5 columns):\n",
            " #   Column           Non-Null Count   Dtype  \n",
            "---  ------           --------------   -----  \n",
            " 0   NU_NOTA_CN       149983 non-null  float64\n",
            " 1   NU_NOTA_CH       149843 non-null  float64\n",
            " 2   NU_NOTA_LC       149941 non-null  float64\n",
            " 3   NU_NOTA_MT       149982 non-null  float64\n",
            " 4   NU_NOTA_REDACAO  146933 non-null  float64\n",
            "dtypes: float64(5)\n",
            "memory usage: 5.7 MB\n"
          ],
          "name": "stdout"
        }
      ]
    },
    {
      "cell_type": "code",
      "metadata": {
        "id": "Kj2_TvxCWTeM",
        "colab_type": "code",
        "colab": {}
      },
      "source": [
        "# Preenchimento dos valores NaN\n",
        "\n",
        "dados_treino['NU_NOTA_CN'].fillna(dados_treino['NU_NOTA_CN'].mean(), inplace = True)\n",
        "dados_treino['NU_NOTA_CH'].fillna(dados_treino['NU_NOTA_CH'].mean(), inplace = True)\n",
        "dados_treino['NU_NOTA_LC'].fillna(dados_treino['NU_NOTA_LC'].mean(), inplace = True)\n",
        "dados_treino['NU_NOTA_MT'].fillna(dados_treino['NU_NOTA_MT'].mean(), inplace = True)\n",
        "dados_treino['NU_NOTA_REDACAO'].fillna(dados_treino['NU_NOTA_REDACAO'].mean(), inplace = True)\n",
        "\n",
        "dados_teste['NU_NOTA_CN'].fillna(dados_teste['NU_NOTA_CN'].mean(), inplace = True)\n",
        "dados_teste['NU_NOTA_CH'].fillna(dados_teste['NU_NOTA_CH'].mean(), inplace = True)\n",
        "dados_teste['NU_NOTA_LC'].fillna(dados_teste['NU_NOTA_LC'].mean(), inplace = True)\n",
        "dados_teste['NU_NOTA_MT'].fillna(dados_teste['NU_NOTA_MT'].mean(), inplace = True)\n",
        "dados_teste['NU_NOTA_REDACAO'].fillna(dados_teste['NU_NOTA_REDACAO'].mean(), inplace = True)\n",
        "\n",
        "dados_desafioqt['NU_NOTA_CN'].fillna(dados_desafioqt['NU_NOTA_CN'].mean(), inplace = True)\n",
        "dados_desafioqt['NU_NOTA_CH'].fillna(dados_desafioqt['NU_NOTA_CH'].mean(), inplace = True)\n",
        "dados_desafioqt['NU_NOTA_MT'].fillna(dados_desafioqt['NU_NOTA_MT'].mean(), inplace = True)\n",
        "dados_desafioqt['NU_NOTA_REDACAO'].fillna(dados_desafioqt['NU_NOTA_REDACAO'].mean(), inplace = True)"
      ],
      "execution_count": 0,
      "outputs": []
    },
    {
      "cell_type": "code",
      "metadata": {
        "id": "-9hS6pNBg612",
        "colab_type": "code",
        "outputId": "008ba575-58f7-437a-9446-9395d45cb6eb",
        "colab": {
          "base_uri": "https://localhost:8080/",
          "height": 221
        }
      },
      "source": [
        "dados_treino.info()"
      ],
      "execution_count": 60,
      "outputs": [
        {
          "output_type": "stream",
          "text": [
            "<class 'pandas.core.frame.DataFrame'>\n",
            "RangeIndex: 150000 entries, 0 to 149999\n",
            "Data columns (total 5 columns):\n",
            " #   Column           Non-Null Count   Dtype  \n",
            "---  ------           --------------   -----  \n",
            " 0   NU_NOTA_CN       150000 non-null  float64\n",
            " 1   NU_NOTA_CH       150000 non-null  float64\n",
            " 2   NU_NOTA_LC       150000 non-null  float64\n",
            " 3   NU_NOTA_MT       150000 non-null  float64\n",
            " 4   NU_NOTA_REDACAO  150000 non-null  float64\n",
            "dtypes: float64(5)\n",
            "memory usage: 5.7 MB\n"
          ],
          "name": "stdout"
        }
      ]
    },
    {
      "cell_type": "code",
      "metadata": {
        "id": "sKeIvPQxjPRg",
        "colab_type": "code",
        "outputId": "961435bc-cd9c-43f6-8c8d-dc77031bf740",
        "colab": {
          "base_uri": "https://localhost:8080/",
          "height": 297
        }
      },
      "source": [
        "dados_treino.describe()"
      ],
      "execution_count": 61,
      "outputs": [
        {
          "output_type": "execute_result",
          "data": {
            "text/html": [
              "<div>\n",
              "<style scoped>\n",
              "    .dataframe tbody tr th:only-of-type {\n",
              "        vertical-align: middle;\n",
              "    }\n",
              "\n",
              "    .dataframe tbody tr th {\n",
              "        vertical-align: top;\n",
              "    }\n",
              "\n",
              "    .dataframe thead th {\n",
              "        text-align: right;\n",
              "    }\n",
              "</style>\n",
              "<table border=\"1\" class=\"dataframe\">\n",
              "  <thead>\n",
              "    <tr style=\"text-align: right;\">\n",
              "      <th></th>\n",
              "      <th>NU_NOTA_CN</th>\n",
              "      <th>NU_NOTA_CH</th>\n",
              "      <th>NU_NOTA_LC</th>\n",
              "      <th>NU_NOTA_MT</th>\n",
              "      <th>NU_NOTA_REDACAO</th>\n",
              "    </tr>\n",
              "  </thead>\n",
              "  <tbody>\n",
              "    <tr>\n",
              "      <th>count</th>\n",
              "      <td>150000.000000</td>\n",
              "      <td>150000.000000</td>\n",
              "      <td>150000.000000</td>\n",
              "      <td>150000.000000</td>\n",
              "      <td>150000.000000</td>\n",
              "    </tr>\n",
              "    <tr>\n",
              "      <th>mean</th>\n",
              "      <td>493.946419</td>\n",
              "      <td>571.350269</td>\n",
              "      <td>528.734872</td>\n",
              "      <td>535.679282</td>\n",
              "      <td>527.046205</td>\n",
              "    </tr>\n",
              "    <tr>\n",
              "      <th>std</th>\n",
              "      <td>73.968036</td>\n",
              "      <td>77.220423</td>\n",
              "      <td>71.622089</td>\n",
              "      <td>102.866163</td>\n",
              "      <td>168.592158</td>\n",
              "    </tr>\n",
              "    <tr>\n",
              "      <th>min</th>\n",
              "      <td>362.500000</td>\n",
              "      <td>304.200000</td>\n",
              "      <td>318.800000</td>\n",
              "      <td>364.400000</td>\n",
              "      <td>40.000000</td>\n",
              "    </tr>\n",
              "    <tr>\n",
              "      <th>25%</th>\n",
              "      <td>435.800000</td>\n",
              "      <td>513.600000</td>\n",
              "      <td>478.000000</td>\n",
              "      <td>455.500000</td>\n",
              "      <td>380.000000</td>\n",
              "    </tr>\n",
              "    <tr>\n",
              "      <th>50%</th>\n",
              "      <td>483.600000</td>\n",
              "      <td>584.900000</td>\n",
              "      <td>533.400000</td>\n",
              "      <td>516.800000</td>\n",
              "      <td>527.046205</td>\n",
              "    </tr>\n",
              "    <tr>\n",
              "      <th>75%</th>\n",
              "      <td>542.500000</td>\n",
              "      <td>629.600000</td>\n",
              "      <td>581.400000</td>\n",
              "      <td>600.900000</td>\n",
              "      <td>640.000000</td>\n",
              "    </tr>\n",
              "    <tr>\n",
              "      <th>max</th>\n",
              "      <td>869.600000</td>\n",
              "      <td>825.800000</td>\n",
              "      <td>787.400000</td>\n",
              "      <td>996.100000</td>\n",
              "      <td>1000.000000</td>\n",
              "    </tr>\n",
              "  </tbody>\n",
              "</table>\n",
              "</div>"
            ],
            "text/plain": [
              "          NU_NOTA_CN     NU_NOTA_CH  ...     NU_NOTA_MT  NU_NOTA_REDACAO\n",
              "count  150000.000000  150000.000000  ...  150000.000000    150000.000000\n",
              "mean      493.946419     571.350269  ...     535.679282       527.046205\n",
              "std        73.968036      77.220423  ...     102.866163       168.592158\n",
              "min       362.500000     304.200000  ...     364.400000        40.000000\n",
              "25%       435.800000     513.600000  ...     455.500000       380.000000\n",
              "50%       483.600000     584.900000  ...     516.800000       527.046205\n",
              "75%       542.500000     629.600000  ...     600.900000       640.000000\n",
              "max       869.600000     825.800000  ...     996.100000      1000.000000\n",
              "\n",
              "[8 rows x 5 columns]"
            ]
          },
          "metadata": {
            "tags": []
          },
          "execution_count": 61
        }
      ]
    },
    {
      "cell_type": "markdown",
      "metadata": {
        "id": "YRoL1ESYkbs3",
        "colab_type": "text"
      },
      "source": [
        "1.2.2 Escalando e transformando os dados"
      ]
    },
    {
      "cell_type": "markdown",
      "metadata": {
        "id": "rKX_aRXulFp8",
        "colab_type": "text"
      },
      "source": [
        "Nesta seção irei escalar os dados.\n",
        "\n",
        "Utilizei duas formas, MinMaxScaler e StandardScaler. Irei verificar qual o melhor e usarei no modelo final.\n",
        "\n",
        "Isso ajuda na melhor compreensão dos dados pelo modelo de machine learning.\n",
        "\n"
      ]
    },
    {
      "cell_type": "code",
      "metadata": {
        "id": "w19FboMFjR3B",
        "colab_type": "code",
        "outputId": "3e3add32-7d59-46c4-e81d-b2d75a031baf",
        "colab": {
          "base_uri": "https://localhost:8080/",
          "height": 204
        }
      },
      "source": [
        "#Primeiramente separo a coluna de dados que queremos predizer, das demais colunas.\n",
        "\n",
        "target_feature_treino = dados_treino['NU_NOTA_LC']\n",
        "features_treino = dados_treino.drop('NU_NOTA_LC', axis=1)\n",
        "\n",
        "target_feature_teste = dados_teste['NU_NOTA_LC']\n",
        "features_teste = dados_teste.drop('NU_NOTA_LC', axis=1)\n",
        "\n",
        "features_desafioqt = dados_desafioqt.drop('ID', axis=1)\n",
        "\n",
        "features_treino.head()"
      ],
      "execution_count": 62,
      "outputs": [
        {
          "output_type": "execute_result",
          "data": {
            "text/html": [
              "<div>\n",
              "<style scoped>\n",
              "    .dataframe tbody tr th:only-of-type {\n",
              "        vertical-align: middle;\n",
              "    }\n",
              "\n",
              "    .dataframe tbody tr th {\n",
              "        vertical-align: top;\n",
              "    }\n",
              "\n",
              "    .dataframe thead th {\n",
              "        text-align: right;\n",
              "    }\n",
              "</style>\n",
              "<table border=\"1\" class=\"dataframe\">\n",
              "  <thead>\n",
              "    <tr style=\"text-align: right;\">\n",
              "      <th></th>\n",
              "      <th>NU_NOTA_CN</th>\n",
              "      <th>NU_NOTA_CH</th>\n",
              "      <th>NU_NOTA_MT</th>\n",
              "      <th>NU_NOTA_REDACAO</th>\n",
              "    </tr>\n",
              "  </thead>\n",
              "  <tbody>\n",
              "    <tr>\n",
              "      <th>0</th>\n",
              "      <td>530.7</td>\n",
              "      <td>586.5</td>\n",
              "      <td>539.0</td>\n",
              "      <td>520.0</td>\n",
              "    </tr>\n",
              "    <tr>\n",
              "      <th>1</th>\n",
              "      <td>439.4</td>\n",
              "      <td>577.9</td>\n",
              "      <td>488.7</td>\n",
              "      <td>380.0</td>\n",
              "    </tr>\n",
              "    <tr>\n",
              "      <th>2</th>\n",
              "      <td>414.1</td>\n",
              "      <td>548.8</td>\n",
              "      <td>382.6</td>\n",
              "      <td>600.0</td>\n",
              "    </tr>\n",
              "    <tr>\n",
              "      <th>3</th>\n",
              "      <td>407.9</td>\n",
              "      <td>572.7</td>\n",
              "      <td>595.4</td>\n",
              "      <td>560.0</td>\n",
              "    </tr>\n",
              "    <tr>\n",
              "      <th>4</th>\n",
              "      <td>617.2</td>\n",
              "      <td>655.7</td>\n",
              "      <td>660.9</td>\n",
              "      <td>540.0</td>\n",
              "    </tr>\n",
              "  </tbody>\n",
              "</table>\n",
              "</div>"
            ],
            "text/plain": [
              "   NU_NOTA_CN  NU_NOTA_CH  NU_NOTA_MT  NU_NOTA_REDACAO\n",
              "0       530.7       586.5       539.0            520.0\n",
              "1       439.4       577.9       488.7            380.0\n",
              "2       414.1       548.8       382.6            600.0\n",
              "3       407.9       572.7       595.4            560.0\n",
              "4       617.2       655.7       660.9            540.0"
            ]
          },
          "metadata": {
            "tags": []
          },
          "execution_count": 62
        }
      ]
    },
    {
      "cell_type": "code",
      "metadata": {
        "id": "8ThAFjh7Ov4z",
        "colab_type": "code",
        "colab": {}
      },
      "source": [
        "#Escalando com MinMaxScaler: Permite definir um range para as features.\n",
        "from sklearn.preprocessing import MinMaxScaler\n",
        "\n",
        "scaler = MinMaxScaler(feature_range=(0,1))\n",
        "rescaled_features_treino = scaler.fit_transform(features_treino)\n",
        "rescaled_features_teste = scaler.fit_transform(features_teste)\n",
        "rescaled_features_desafioqt = scaler.fit_transform(features_desafioqt)"
      ],
      "execution_count": 0,
      "outputs": []
    },
    {
      "cell_type": "code",
      "metadata": {
        "id": "GUieWPHxP6ld",
        "colab_type": "code",
        "outputId": "3e366d2b-3505-4bf1-9019-a6220dc04bb9",
        "colab": {
          "base_uri": "https://localhost:8080/",
          "height": 102
        }
      },
      "source": [
        "rescaled_features_treino[0:5]"
      ],
      "execution_count": 64,
      "outputs": [
        {
          "output_type": "execute_result",
          "data": {
            "text/plain": [
              "array([[0.33169   , 0.54121933, 0.27639702, 0.5       ],\n",
              "       [0.15164662, 0.5247316 , 0.19677062, 0.35416667],\n",
              "       [0.10175508, 0.46894172, 0.02881114, 0.58333333],\n",
              "       [0.08952869, 0.51476227, 0.36567991, 0.54166667],\n",
              "       [0.5022678 , 0.67388804, 0.46936837, 0.52083333]])"
            ]
          },
          "metadata": {
            "tags": []
          },
          "execution_count": 64
        }
      ]
    },
    {
      "cell_type": "code",
      "metadata": {
        "id": "AVFzRGndP9gZ",
        "colab_type": "code",
        "colab": {}
      },
      "source": [
        "#Transformando os numpy arrays em dataframes\n",
        "rescaled_features_treino_df = pd.DataFrame(rescaled_features_treino,columns=features_treino.columns)\n",
        "rescaled_features_teste_df = pd.DataFrame(rescaled_features_teste,columns=features_teste.columns)\n",
        "rescaled_features_desafioqt_df = pd.DataFrame(rescaled_features_desafioqt,columns=features_desafioqt.columns)"
      ],
      "execution_count": 0,
      "outputs": []
    },
    {
      "cell_type": "code",
      "metadata": {
        "id": "BBIDhTWObBB5",
        "colab_type": "code",
        "outputId": "de230f8e-bed6-4427-a0df-4acf06910df0",
        "colab": {
          "base_uri": "https://localhost:8080/",
          "height": 204
        }
      },
      "source": [
        "rescaled_features_treino_df.head()"
      ],
      "execution_count": 66,
      "outputs": [
        {
          "output_type": "execute_result",
          "data": {
            "text/html": [
              "<div>\n",
              "<style scoped>\n",
              "    .dataframe tbody tr th:only-of-type {\n",
              "        vertical-align: middle;\n",
              "    }\n",
              "\n",
              "    .dataframe tbody tr th {\n",
              "        vertical-align: top;\n",
              "    }\n",
              "\n",
              "    .dataframe thead th {\n",
              "        text-align: right;\n",
              "    }\n",
              "</style>\n",
              "<table border=\"1\" class=\"dataframe\">\n",
              "  <thead>\n",
              "    <tr style=\"text-align: right;\">\n",
              "      <th></th>\n",
              "      <th>NU_NOTA_CN</th>\n",
              "      <th>NU_NOTA_CH</th>\n",
              "      <th>NU_NOTA_MT</th>\n",
              "      <th>NU_NOTA_REDACAO</th>\n",
              "    </tr>\n",
              "  </thead>\n",
              "  <tbody>\n",
              "    <tr>\n",
              "      <th>0</th>\n",
              "      <td>0.331690</td>\n",
              "      <td>0.541219</td>\n",
              "      <td>0.276397</td>\n",
              "      <td>0.500000</td>\n",
              "    </tr>\n",
              "    <tr>\n",
              "      <th>1</th>\n",
              "      <td>0.151647</td>\n",
              "      <td>0.524732</td>\n",
              "      <td>0.196771</td>\n",
              "      <td>0.354167</td>\n",
              "    </tr>\n",
              "    <tr>\n",
              "      <th>2</th>\n",
              "      <td>0.101755</td>\n",
              "      <td>0.468942</td>\n",
              "      <td>0.028811</td>\n",
              "      <td>0.583333</td>\n",
              "    </tr>\n",
              "    <tr>\n",
              "      <th>3</th>\n",
              "      <td>0.089529</td>\n",
              "      <td>0.514762</td>\n",
              "      <td>0.365680</td>\n",
              "      <td>0.541667</td>\n",
              "    </tr>\n",
              "    <tr>\n",
              "      <th>4</th>\n",
              "      <td>0.502268</td>\n",
              "      <td>0.673888</td>\n",
              "      <td>0.469368</td>\n",
              "      <td>0.520833</td>\n",
              "    </tr>\n",
              "  </tbody>\n",
              "</table>\n",
              "</div>"
            ],
            "text/plain": [
              "   NU_NOTA_CN  NU_NOTA_CH  NU_NOTA_MT  NU_NOTA_REDACAO\n",
              "0    0.331690    0.541219    0.276397         0.500000\n",
              "1    0.151647    0.524732    0.196771         0.354167\n",
              "2    0.101755    0.468942    0.028811         0.583333\n",
              "3    0.089529    0.514762    0.365680         0.541667\n",
              "4    0.502268    0.673888    0.469368         0.520833"
            ]
          },
          "metadata": {
            "tags": []
          },
          "execution_count": 66
        }
      ]
    },
    {
      "cell_type": "code",
      "metadata": {
        "id": "BMOMu_sGZNJd",
        "colab_type": "code",
        "outputId": "8cd5366e-fba3-4172-97ba-120d3027f8c8",
        "colab": {
          "base_uri": "https://localhost:8080/",
          "height": 297
        }
      },
      "source": [
        "rescaled_features_treino_df.describe()"
      ],
      "execution_count": 67,
      "outputs": [
        {
          "output_type": "execute_result",
          "data": {
            "text/html": [
              "<div>\n",
              "<style scoped>\n",
              "    .dataframe tbody tr th:only-of-type {\n",
              "        vertical-align: middle;\n",
              "    }\n",
              "\n",
              "    .dataframe tbody tr th {\n",
              "        vertical-align: top;\n",
              "    }\n",
              "\n",
              "    .dataframe thead th {\n",
              "        text-align: right;\n",
              "    }\n",
              "</style>\n",
              "<table border=\"1\" class=\"dataframe\">\n",
              "  <thead>\n",
              "    <tr style=\"text-align: right;\">\n",
              "      <th></th>\n",
              "      <th>NU_NOTA_CN</th>\n",
              "      <th>NU_NOTA_CH</th>\n",
              "      <th>NU_NOTA_MT</th>\n",
              "      <th>NU_NOTA_REDACAO</th>\n",
              "    </tr>\n",
              "  </thead>\n",
              "  <tbody>\n",
              "    <tr>\n",
              "      <th>count</th>\n",
              "      <td>150000.000000</td>\n",
              "      <td>150000.000000</td>\n",
              "      <td>150000.000000</td>\n",
              "      <td>150000.000000</td>\n",
              "    </tr>\n",
              "    <tr>\n",
              "      <th>mean</th>\n",
              "      <td>0.259212</td>\n",
              "      <td>0.512175</td>\n",
              "      <td>0.271140</td>\n",
              "      <td>0.507340</td>\n",
              "    </tr>\n",
              "    <tr>\n",
              "      <th>std</th>\n",
              "      <td>0.145865</td>\n",
              "      <td>0.148045</td>\n",
              "      <td>0.162840</td>\n",
              "      <td>0.175617</td>\n",
              "    </tr>\n",
              "    <tr>\n",
              "      <th>min</th>\n",
              "      <td>0.000000</td>\n",
              "      <td>0.000000</td>\n",
              "      <td>0.000000</td>\n",
              "      <td>0.000000</td>\n",
              "    </tr>\n",
              "    <tr>\n",
              "      <th>25%</th>\n",
              "      <td>0.144547</td>\n",
              "      <td>0.401457</td>\n",
              "      <td>0.144214</td>\n",
              "      <td>0.354167</td>\n",
              "    </tr>\n",
              "    <tr>\n",
              "      <th>50%</th>\n",
              "      <td>0.238809</td>\n",
              "      <td>0.538152</td>\n",
              "      <td>0.241254</td>\n",
              "      <td>0.507340</td>\n",
              "    </tr>\n",
              "    <tr>\n",
              "      <th>75%</th>\n",
              "      <td>0.354960</td>\n",
              "      <td>0.623850</td>\n",
              "      <td>0.374387</td>\n",
              "      <td>0.625000</td>\n",
              "    </tr>\n",
              "    <tr>\n",
              "      <th>max</th>\n",
              "      <td>1.000000</td>\n",
              "      <td>1.000000</td>\n",
              "      <td>1.000000</td>\n",
              "      <td>1.000000</td>\n",
              "    </tr>\n",
              "  </tbody>\n",
              "</table>\n",
              "</div>"
            ],
            "text/plain": [
              "          NU_NOTA_CN     NU_NOTA_CH     NU_NOTA_MT  NU_NOTA_REDACAO\n",
              "count  150000.000000  150000.000000  150000.000000    150000.000000\n",
              "mean        0.259212       0.512175       0.271140         0.507340\n",
              "std         0.145865       0.148045       0.162840         0.175617\n",
              "min         0.000000       0.000000       0.000000         0.000000\n",
              "25%         0.144547       0.401457       0.144214         0.354167\n",
              "50%         0.238809       0.538152       0.241254         0.507340\n",
              "75%         0.354960       0.623850       0.374387         0.625000\n",
              "max         1.000000       1.000000       1.000000         1.000000"
            ]
          },
          "metadata": {
            "tags": []
          },
          "execution_count": 67
        }
      ]
    },
    {
      "cell_type": "code",
      "metadata": {
        "id": "Hi4V58iCQg0r",
        "colab_type": "code",
        "outputId": "be54c2d9-f3c2-4935-9d31-81e4a3569e8f",
        "colab": {
          "base_uri": "https://localhost:8080/",
          "height": 552
        }
      },
      "source": [
        "rescaled_features_treino_df.boxplot(figsize=(12,8), rot=45)\n",
        "\n",
        "plt.show()"
      ],
      "execution_count": 68,
      "outputs": [
        {
          "output_type": "display_data",
          "data": {
            "image/png": "[encoded data removed]",
            "text/plain": [
              "<Figure size 864x576 with 1 Axes>"
            ]
          },
          "metadata": {
            "tags": [],
            "needs_background": "light"
          }
        }
      ]
    },
    {
      "cell_type": "code",
      "metadata": {
        "id": "n4SVAdjIRNhz",
        "colab_type": "code",
        "colab": {}
      },
      "source": [
        "#Escalando com  o StandardScaler: Calcula a média de cada feature, diminui a média em cada valor e divide pelo desvio padrão.\n",
        "\n",
        "from sklearn.preprocessing import StandardScaler\n",
        "\n",
        "scaler = StandardScaler()\n",
        "scaler2 = StandardScaler()\n",
        "scaler3 = StandardScaler()\n",
        "\n",
        "scaler_treino = scaler.fit(features_treino)\n",
        "scaler_teste = scaler2.fit(features_teste)\n",
        "scaler_desafioqt = scaler3.fit(features_desafioqt)\n",
        "\n",
        "std_features_treino = scaler_treino.transform(features_treino)\n",
        "std_features_teste = scaler_teste.transform(features_teste)\n",
        "std_features_desafioqt = scaler_desafioqt.transform(features_desafioqt)"
      ],
      "execution_count": 0,
      "outputs": []
    },
    {
      "cell_type": "code",
      "metadata": {
        "id": "E1x9zo4kS1b6",
        "colab_type": "code",
        "outputId": "8d768e47-e571-469c-a994-4b2e60cc1804",
        "colab": {
          "base_uri": "https://localhost:8080/",
          "height": 102
        }
      },
      "source": [
        "std_features_treino[0:5]"
      ],
      "execution_count": 70,
      "outputs": [
        {
          "output_type": "execute_result",
          "data": {
            "text/plain": [
              "array([[ 0.4968863 ,  0.1961888 ,  0.03228204, -0.04179452],\n",
              "       [-0.73743476,  0.08481892, -0.45670449, -0.87220365],\n",
              "       [-1.07947553, -0.29202565, -1.48814525,  0.43272498],\n",
              "       [-1.1632958 ,  0.017479  ,  0.58056912,  0.19546523],\n",
              "       [ 1.66631425,  1.09232778,  1.21732095,  0.07683536]])"
            ]
          },
          "metadata": {
            "tags": []
          },
          "execution_count": 70
        }
      ]
    },
    {
      "cell_type": "code",
      "metadata": {
        "id": "u32w0HpYS4iC",
        "colab_type": "code",
        "outputId": "a65690fb-081f-49b9-fef5-88f9f580ff7d",
        "colab": {
          "base_uri": "https://localhost:8080/",
          "height": 204
        }
      },
      "source": [
        "#Transformando os numpy arrays em dataframes\n",
        "\n",
        "std_features_treino_df = pd.DataFrame(std_features_treino, columns=features_treino.columns)\n",
        "std_features_teste_df = pd.DataFrame(std_features_teste, columns=features_teste.columns)\n",
        "std_features_desafioqt_df = pd.DataFrame(std_features_desafioqt, columns=features_desafioqt.columns)\n",
        "\n",
        "\n",
        "std_features_treino_df.head()"
      ],
      "execution_count": 71,
      "outputs": [
        {
          "output_type": "execute_result",
          "data": {
            "text/html": [
              "<div>\n",
              "<style scoped>\n",
              "    .dataframe tbody tr th:only-of-type {\n",
              "        vertical-align: middle;\n",
              "    }\n",
              "\n",
              "    .dataframe tbody tr th {\n",
              "        vertical-align: top;\n",
              "    }\n",
              "\n",
              "    .dataframe thead th {\n",
              "        text-align: right;\n",
              "    }\n",
              "</style>\n",
              "<table border=\"1\" class=\"dataframe\">\n",
              "  <thead>\n",
              "    <tr style=\"text-align: right;\">\n",
              "      <th></th>\n",
              "      <th>NU_NOTA_CN</th>\n",
              "      <th>NU_NOTA_CH</th>\n",
              "      <th>NU_NOTA_MT</th>\n",
              "      <th>NU_NOTA_REDACAO</th>\n",
              "    </tr>\n",
              "  </thead>\n",
              "  <tbody>\n",
              "    <tr>\n",
              "      <th>0</th>\n",
              "      <td>0.496886</td>\n",
              "      <td>0.196189</td>\n",
              "      <td>0.032282</td>\n",
              "      <td>-0.041795</td>\n",
              "    </tr>\n",
              "    <tr>\n",
              "      <th>1</th>\n",
              "      <td>-0.737435</td>\n",
              "      <td>0.084819</td>\n",
              "      <td>-0.456704</td>\n",
              "      <td>-0.872204</td>\n",
              "    </tr>\n",
              "    <tr>\n",
              "      <th>2</th>\n",
              "      <td>-1.079476</td>\n",
              "      <td>-0.292026</td>\n",
              "      <td>-1.488145</td>\n",
              "      <td>0.432725</td>\n",
              "    </tr>\n",
              "    <tr>\n",
              "      <th>3</th>\n",
              "      <td>-1.163296</td>\n",
              "      <td>0.017479</td>\n",
              "      <td>0.580569</td>\n",
              "      <td>0.195465</td>\n",
              "    </tr>\n",
              "    <tr>\n",
              "      <th>4</th>\n",
              "      <td>1.666314</td>\n",
              "      <td>1.092328</td>\n",
              "      <td>1.217321</td>\n",
              "      <td>0.076835</td>\n",
              "    </tr>\n",
              "  </tbody>\n",
              "</table>\n",
              "</div>"
            ],
            "text/plain": [
              "   NU_NOTA_CN  NU_NOTA_CH  NU_NOTA_MT  NU_NOTA_REDACAO\n",
              "0    0.496886    0.196189    0.032282        -0.041795\n",
              "1   -0.737435    0.084819   -0.456704        -0.872204\n",
              "2   -1.079476   -0.292026   -1.488145         0.432725\n",
              "3   -1.163296    0.017479    0.580569         0.195465\n",
              "4    1.666314    1.092328    1.217321         0.076835"
            ]
          },
          "metadata": {
            "tags": []
          },
          "execution_count": 71
        }
      ]
    },
    {
      "cell_type": "code",
      "metadata": {
        "id": "gvUiCMMZTDnk",
        "colab_type": "code",
        "outputId": "a0894800-d25e-48e0-98fc-8f129dd22009",
        "colab": {
          "base_uri": "https://localhost:8080/",
          "height": 297
        }
      },
      "source": [
        "std_features_treino_df.describe()"
      ],
      "execution_count": 72,
      "outputs": [
        {
          "output_type": "execute_result",
          "data": {
            "text/html": [
              "<div>\n",
              "<style scoped>\n",
              "    .dataframe tbody tr th:only-of-type {\n",
              "        vertical-align: middle;\n",
              "    }\n",
              "\n",
              "    .dataframe tbody tr th {\n",
              "        vertical-align: top;\n",
              "    }\n",
              "\n",
              "    .dataframe thead th {\n",
              "        text-align: right;\n",
              "    }\n",
              "</style>\n",
              "<table border=\"1\" class=\"dataframe\">\n",
              "  <thead>\n",
              "    <tr style=\"text-align: right;\">\n",
              "      <th></th>\n",
              "      <th>NU_NOTA_CN</th>\n",
              "      <th>NU_NOTA_CH</th>\n",
              "      <th>NU_NOTA_MT</th>\n",
              "      <th>NU_NOTA_REDACAO</th>\n",
              "    </tr>\n",
              "  </thead>\n",
              "  <tbody>\n",
              "    <tr>\n",
              "      <th>count</th>\n",
              "      <td>1.500000e+05</td>\n",
              "      <td>1.500000e+05</td>\n",
              "      <td>1.500000e+05</td>\n",
              "      <td>1.500000e+05</td>\n",
              "    </tr>\n",
              "    <tr>\n",
              "      <th>mean</th>\n",
              "      <td>-1.458315e-16</td>\n",
              "      <td>1.184589e-15</td>\n",
              "      <td>-3.446340e-16</td>\n",
              "      <td>1.068060e-15</td>\n",
              "    </tr>\n",
              "    <tr>\n",
              "      <th>std</th>\n",
              "      <td>1.000003e+00</td>\n",
              "      <td>1.000003e+00</td>\n",
              "      <td>1.000003e+00</td>\n",
              "      <td>1.000003e+00</td>\n",
              "    </tr>\n",
              "    <tr>\n",
              "      <th>min</th>\n",
              "      <td>-1.777076e+00</td>\n",
              "      <td>-3.459592e+00</td>\n",
              "      <td>-1.665075e+00</td>\n",
              "      <td>-2.888912e+00</td>\n",
              "    </tr>\n",
              "    <tr>\n",
              "      <th>25%</th>\n",
              "      <td>-7.861046e-01</td>\n",
              "      <td>-7.478651e-01</td>\n",
              "      <td>-7.794550e-01</td>\n",
              "      <td>-8.722036e-01</td>\n",
              "    </tr>\n",
              "    <tr>\n",
              "      <th>50%</th>\n",
              "      <td>-1.398774e-01</td>\n",
              "      <td>1.754688e-01</td>\n",
              "      <td>-1.835331e-01</td>\n",
              "      <td>6.743328e-16</td>\n",
              "    </tr>\n",
              "    <tr>\n",
              "      <th>75%</th>\n",
              "      <td>6.564152e-01</td>\n",
              "      <td>7.543332e-01</td>\n",
              "      <td>6.340368e-01</td>\n",
              "      <td>6.699847e-01</td>\n",
              "    </tr>\n",
              "    <tr>\n",
              "      <th>max</th>\n",
              "      <td>5.078610e+00</td>\n",
              "      <td>3.295120e+00</td>\n",
              "      <td>4.475935e+00</td>\n",
              "      <td>2.805322e+00</td>\n",
              "    </tr>\n",
              "  </tbody>\n",
              "</table>\n",
              "</div>"
            ],
            "text/plain": [
              "         NU_NOTA_CN    NU_NOTA_CH    NU_NOTA_MT  NU_NOTA_REDACAO\n",
              "count  1.500000e+05  1.500000e+05  1.500000e+05     1.500000e+05\n",
              "mean  -1.458315e-16  1.184589e-15 -3.446340e-16     1.068060e-15\n",
              "std    1.000003e+00  1.000003e+00  1.000003e+00     1.000003e+00\n",
              "min   -1.777076e+00 -3.459592e+00 -1.665075e+00    -2.888912e+00\n",
              "25%   -7.861046e-01 -7.478651e-01 -7.794550e-01    -8.722036e-01\n",
              "50%   -1.398774e-01  1.754688e-01 -1.835331e-01     6.743328e-16\n",
              "75%    6.564152e-01  7.543332e-01  6.340368e-01     6.699847e-01\n",
              "max    5.078610e+00  3.295120e+00  4.475935e+00     2.805322e+00"
            ]
          },
          "metadata": {
            "tags": []
          },
          "execution_count": 72
        }
      ]
    },
    {
      "cell_type": "code",
      "metadata": {
        "id": "XlB6nIkVTVUP",
        "colab_type": "code",
        "outputId": "1fbb900c-d6a8-4905-8fbc-4a6ff57ae9f1",
        "colab": {
          "base_uri": "https://localhost:8080/",
          "height": 484
        }
      },
      "source": [
        "std_features_treino_df.boxplot(figsize=(12,8))\n",
        "plt.show()"
      ],
      "execution_count": 73,
      "outputs": [
        {
          "output_type": "display_data",
          "data": {
            "image/png": "[encoded data removed]",
            "text/plain": [
              "<Figure size 864x576 with 1 Axes>"
            ]
          },
          "metadata": {
            "tags": [],
            "needs_background": "light"
          }
        }
      ]
    },
    {
      "cell_type": "markdown",
      "metadata": {
        "id": "qSmFkkibKIHi",
        "colab_type": "text"
      },
      "source": [
        "# Etapa 02: Modelo de machine learning"
      ]
    },
    {
      "cell_type": "markdown",
      "metadata": {
        "id": "xvEIY5lhMi1L",
        "colab_type": "text"
      },
      "source": [
        "# 2.1 Escolha do modelo"
      ]
    },
    {
      "cell_type": "markdown",
      "metadata": {
        "id": "C5jLcrKTNDQO",
        "colab_type": "text"
      },
      "source": [
        "Como é um problema que busca descobrir um valor numérico, os principais modelos, que eu conheço, para encontrar regressões são:\n",
        "\n",
        "1. LinearRegression;\n",
        "2. LinearSVR;\n",
        "3. DecisionTreeRegressor.\n",
        "\n",
        "(Rodei um modelo de RandomForestRegressor que durou mais de 20 minutos. Como não conheço muito bem, decidi remover.)\n",
        "\n",
        "Vou testar cada um deles e verificar o modelo que tem o menor erro quadrático médio, a partir dos dados de teste.\n",
        "\n",
        "Então, utilizarei o melhor modelo para prever os dados do desafio."
      ]
    },
    {
      "cell_type": "markdown",
      "metadata": {
        "id": "XdzQ-7WyV713",
        "colab_type": "text"
      },
      "source": [
        "2.1.1 Treinamento dos modelos"
      ]
    },
    {
      "cell_type": "code",
      "metadata": {
        "id": "0jN_69h2UirM",
        "colab_type": "code",
        "colab": {}
      },
      "source": [
        "#Importação das bibliotecas\n",
        "\n",
        "from sklearn.linear_model import LinearRegression\n",
        "from sklearn.svm import LinearSVR\n",
        "from sklearn.tree import DecisionTreeRegressor"
      ],
      "execution_count": 0,
      "outputs": []
    },
    {
      "cell_type": "code",
      "metadata": {
        "id": "qIn8mb1bKez8",
        "colab_type": "code",
        "colab": {}
      },
      "source": [
        "# 1.LinearRegression\n",
        "\n",
        "lmodel = LinearRegression()\n",
        "lmodel2 = LinearRegression()\n",
        "\n",
        "#1.1 LR com dados escalados com o MinMaxScaler\n",
        "\n",
        "lmodel.fit(rescaled_features_treino_df,target_feature_treino)\n",
        "rescaled_predict_lmodel = lmodel.predict(rescaled_features_teste_df)\n",
        "\n",
        "#1.2 LR com dados escalados com o StandardScaller\n",
        "\n",
        "lmodel2.fit(std_features_treino_df,target_feature_treino)\n",
        "std_predict_lmodel = lmodel.predict(std_features_teste_df)"
      ],
      "execution_count": 0,
      "outputs": []
    },
    {
      "cell_type": "code",
      "metadata": {
        "id": "lMvXBKVkV0AC",
        "colab_type": "code",
        "colab": {}
      },
      "source": [
        "# 2.LinearSVR\n",
        "\n",
        "lsvr_model = LinearSVR(C =1.0 ,max_iter=5000)\n",
        "lsvr_model2 = LinearSVR(C = 1.0, max_iter=5000)\n",
        "\n",
        "#2.1 LSVR com dados escalados com o MinMaxScaler\n",
        "\n",
        "lsvr_model.fit(rescaled_features_treino_df, target_feature_treino)\n",
        "rescaled_predict_lsvr = lsvr_model.predict(rescaled_features_teste_df)\n",
        "\n",
        "#2.2 LSVR com dados escalados com o StandardScaler\n",
        "\n",
        "lsvr_model2.fit(std_features_treino_df, target_feature_treino)\n",
        "std_predict_lsvr2 = lsvr_model2.predict(std_features_teste_df)"
      ],
      "execution_count": 0,
      "outputs": []
    },
    {
      "cell_type": "code",
      "metadata": {
        "id": "4uU3cH2NYB9V",
        "colab_type": "code",
        "colab": {}
      },
      "source": [
        "#3 DecisionTreeRegressor\n",
        "\n",
        "dtr_model = DecisionTreeRegressor()\n",
        "dtr_model2 = DecisionTreeRegressor()\n",
        "\n",
        "#3.1 DTR com os dados escalados com o MinMaxScaler\n",
        "\n",
        "dtr_model.fit(rescaled_features_treino_df, target_feature_treino)\n",
        "rescaled_predict_dtr = dtr_model.predict(rescaled_features_teste_df)\n",
        "\n",
        "#3.2 DTR com os dados escalados com o StandardScaler\n",
        "\n",
        "dtr_model2.fit(std_features_treino_df, target_feature_treino)\n",
        "std_predict_dtr = dtr_model2.predict(std_features_teste_df)"
      ],
      "execution_count": 0,
      "outputs": []
    },
    {
      "cell_type": "markdown",
      "metadata": {
        "id": "rgQYbcyobvxz",
        "colab_type": "text"
      },
      "source": [
        "2.1.2 Verificação dos modelos"
      ]
    },
    {
      "cell_type": "markdown",
      "metadata": {
        "id": "JW075Mz9vIS5",
        "colab_type": "text"
      },
      "source": [
        "O melhor modelo, ou seja, com menor erro quadrado médio, foi o algoritmo **LinearSVR** com os dados escalados pelo **StandardScaler**.\n",
        "\n",
        "Nome do modelo: lsvr_model2\n",
        "\n",
        "Base de dados que será utilizada: std_features_desafioqt\n",
        "\n"
      ]
    },
    {
      "cell_type": "code",
      "metadata": {
        "id": "MWTMa_vlbWU9",
        "colab_type": "code",
        "colab": {}
      },
      "source": [
        "#Importação da biblioteca\n",
        "\n",
        "from sklearn.metrics import mean_squared_error"
      ],
      "execution_count": 0,
      "outputs": []
    },
    {
      "cell_type": "code",
      "metadata": {
        "id": "oBpr1qLVcOKz",
        "colab_type": "code",
        "colab": {}
      },
      "source": [
        "# 1.LinearRegression\n",
        "\n",
        "mse_res_plm = mean_squared_error(target_feature_teste, rescaled_predict_lmodel)\n",
        "mse_std_plm = mean_squared_error(target_feature_teste, std_predict_lmodel)\n",
        "\n",
        "mse_lmodel = [mse_res_plm, mse_std_plm]"
      ],
      "execution_count": 0,
      "outputs": []
    },
    {
      "cell_type": "code",
      "metadata": {
        "id": "Iv1cDv11un4_",
        "colab_type": "code",
        "outputId": "ca7e7c5f-d006-4757-b650-901bdfc23fb4",
        "colab": {
          "base_uri": "https://localhost:8080/",
          "height": 34
        }
      },
      "source": [
        "mse_lmodel"
      ],
      "execution_count": 80,
      "outputs": [
        {
          "output_type": "execute_result",
          "data": {
            "text/plain": [
              "[2408.1222394033284, 126445.19465281667]"
            ]
          },
          "metadata": {
            "tags": []
          },
          "execution_count": 80
        }
      ]
    },
    {
      "cell_type": "code",
      "metadata": {
        "id": "BhIN69KGdY5m",
        "colab_type": "code",
        "outputId": "b08cbde6-460b-43c6-a69d-3f582625f0ff",
        "colab": {
          "base_uri": "https://localhost:8080/",
          "height": 512
        }
      },
      "source": [
        "mse_lmodel_df = pd.DataFrame(mse_lmodel)\n",
        "mse_lmodel_df.plot(kind='bar', figsize=(12,8), legend=False, title='Diferença Mean Squared Error: MinMaxScaler vs StandardScaler',color=['b'])"
      ],
      "execution_count": 81,
      "outputs": [
        {
          "output_type": "execute_result",
          "data": {
            "text/plain": [
              "<matplotlib.axes._subplots.AxesSubplot at 0x7f5b3537bc88>"
            ]
          },
          "metadata": {
            "tags": []
          },
          "execution_count": 81
        },
        {
          "output_type": "display_data",
          "data": {
            "image/png": "[encoded data removed]",
            "text/plain": [
              "<Figure size 864x576 with 1 Axes>"
            ]
          },
          "metadata": {
            "tags": [],
            "needs_background": "light"
          }
        }
      ]
    },
    {
      "cell_type": "code",
      "metadata": {
        "id": "IHPNk6yJek8-",
        "colab_type": "code",
        "colab": {}
      },
      "source": [
        "# 2.LinearSVR\n",
        "\n",
        "mse_res_plsvr = mean_squared_error(target_feature_teste, rescaled_predict_lsvr)\n",
        "mse_std_plsvr = mean_squared_error(target_feature_teste, std_predict_lsvr2)\n",
        "\n",
        "mse_lsvr = [mse_res_plsvr, mse_std_plsvr]"
      ],
      "execution_count": 0,
      "outputs": []
    },
    {
      "cell_type": "code",
      "metadata": {
        "id": "GEjax8Oruk1v",
        "colab_type": "code",
        "outputId": "60a7630c-0860-4d11-e64e-3b134cfaf560",
        "colab": {
          "base_uri": "https://localhost:8080/",
          "height": 34
        }
      },
      "source": [
        "mse_lsvr"
      ],
      "execution_count": 83,
      "outputs": [
        {
          "output_type": "execute_result",
          "data": {
            "text/plain": [
              "[2386.2615620861075, 2145.43995514811]"
            ]
          },
          "metadata": {
            "tags": []
          },
          "execution_count": 83
        }
      ]
    },
    {
      "cell_type": "code",
      "metadata": {
        "id": "4BJEh4ECf2fe",
        "colab_type": "code",
        "outputId": "793a339a-dcaa-4a6c-8f97-583462f4fd20",
        "colab": {
          "base_uri": "https://localhost:8080/",
          "height": 512
        }
      },
      "source": [
        "mse_lsvr_df = pd.DataFrame(mse_lsvr)\n",
        "mse_lsvr_df.plot(kind='bar', figsize=(12,8), legend=False, title='Diferença Mean Squared Error: MinMaxScaler vs StandardScaler',color=['b'])"
      ],
      "execution_count": 84,
      "outputs": [
        {
          "output_type": "execute_result",
          "data": {
            "text/plain": [
              "<matplotlib.axes._subplots.AxesSubplot at 0x7f5b35360588>"
            ]
          },
          "metadata": {
            "tags": []
          },
          "execution_count": 84
        },
        {
          "output_type": "display_data",
          "data": {
            "image/png": "[encoded data removed]",
            "text/plain": [
              "<Figure size 864x576 with 1 Axes>"
            ]
          },
          "metadata": {
            "tags": [],
            "needs_background": "light"
          }
        }
      ]
    },
    {
      "cell_type": "code",
      "metadata": {
        "id": "FczHgIRGf4ml",
        "colab_type": "code",
        "colab": {}
      },
      "source": [
        "# 3.DecisionTreeRegressor\n",
        "\n",
        "mse_res_pdtr = mean_squared_error(target_feature_teste, rescaled_predict_dtr)\n",
        "mse_std_pdtr = mean_squared_error(target_feature_teste, std_predict_dtr)\n",
        "\n",
        "mse_dtr = [mse_res_pdtr, mse_std_pdtr]"
      ],
      "execution_count": 0,
      "outputs": []
    },
    {
      "cell_type": "code",
      "metadata": {
        "id": "kLHeXX6yuhPN",
        "colab_type": "code",
        "outputId": "a54e82c5-215a-4286-872b-57dd5ab0e92b",
        "colab": {
          "base_uri": "https://localhost:8080/",
          "height": 34
        }
      },
      "source": [
        "mse_dtr"
      ],
      "execution_count": 86,
      "outputs": [
        {
          "output_type": "execute_result",
          "data": {
            "text/plain": [
              "[5214.828513158253, 4175.663109271347]"
            ]
          },
          "metadata": {
            "tags": []
          },
          "execution_count": 86
        }
      ]
    },
    {
      "cell_type": "code",
      "metadata": {
        "id": "yIqFSrkKgMlm",
        "colab_type": "code",
        "outputId": "8b6807a5-2d2b-400b-fb70-97e64f3b0108",
        "colab": {
          "base_uri": "https://localhost:8080/",
          "height": 512
        }
      },
      "source": [
        "mse_dtr_df = pd.DataFrame(mse_dtr)\n",
        "mse_dtr_df.plot(kind='bar', figsize=(12,8), legend=False, title='Diferença Mean Squared Error: MinMaxScaler vs StandardScaler',color=['b'])"
      ],
      "execution_count": 87,
      "outputs": [
        {
          "output_type": "execute_result",
          "data": {
            "text/plain": [
              "<matplotlib.axes._subplots.AxesSubplot at 0x7f5b353ab0b8>"
            ]
          },
          "metadata": {
            "tags": []
          },
          "execution_count": 87
        },
        {
          "output_type": "display_data",
          "data": {
            "image/png": "[encoded data removed]",
            "text/plain": [
              "<Figure size 864x576 with 1 Axes>"
            ]
          },
          "metadata": {
            "tags": [],
            "needs_background": "light"
          }
        }
      ]
    },
    {
      "cell_type": "markdown",
      "metadata": {
        "id": "qu2z1e93vnQK",
        "colab_type": "text"
      },
      "source": [
        "# 2.2 Predição dos dados e finalização do desafio."
      ]
    },
    {
      "cell_type": "markdown",
      "metadata": {
        "id": "04_34C8Tv_sz",
        "colab_type": "text"
      },
      "source": [
        "Nessa seção, vou predizer os dados do dataset desafioqt, utilizando o melhor modelo que consegui construir nesse projeto.\n",
        "\n",
        "Então, criarei o arquivo com os resultados para serem enviados e validados pelos criadores do desafio."
      ]
    },
    {
      "cell_type": "code",
      "metadata": {
        "id": "LQ4fnZeLvw6W",
        "colab_type": "code",
        "colab": {}
      },
      "source": [
        "#atribuir ao MODELO o nome do seu melhor modelo\n",
        "from google.colab import files\n",
        "\n",
        "MODELO = lsvr_model2\n",
        "X_desafioqt = std_features_desafioqt\n",
        "predicao_desafioqt = MODELO.predict(X_desafioqt)\n",
        "\n",
        "\n",
        "desafio_df = pd.DataFrame(dados_desafioqt.ID)\n",
        "desafio_df['NU_NOTA_LC'] = predicao_desafioqt\n",
        "\n",
        "#NÃO TROCAR O NOME DO ARQUIVO DE SAÍDA (PREDICAO_DESAFIO)\n",
        "desafio_df.to_csv('PREDICAO_DESAFIOQT.csv', index=False) \n",
        "files.download('PREDICAO_DESAFIOQT.csv')"
      ],
      "execution_count": 0,
      "outputs": []
    }
  ]
}